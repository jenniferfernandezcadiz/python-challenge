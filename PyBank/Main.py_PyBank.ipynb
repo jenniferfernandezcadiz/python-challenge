{
 "cells": [
  {
   "cell_type": "code",
   "execution_count": 5,
   "metadata": {},
   "outputs": [
    {
     "data": {
      "text/plain": [
       "'C:\\\\Users\\\\jenni\\\\Desktop\\\\python-challenge\\\\PyBank'"
      ]
     },
     "execution_count": 5,
     "metadata": {},
     "output_type": "execute_result"
    }
   ],
   "source": [
    "import csv\n",
    "import os\n",
    "os.getcwd()"
   ]
  },
  {
   "cell_type": "code",
   "execution_count": 54,
   "metadata": {},
   "outputs": [],
   "source": [
    "# accessing file \n",
    "PyBank_file=os.path.join('C://Users//jenni//Desktop//python-challenge//PyBank/Resources/budget_data.csv')"
   ]
  },
  {
   "cell_type": "code",
   "execution_count": 55,
   "metadata": {},
   "outputs": [],
   "source": [
    "budget_analysis='C://Users//jenni//Desktop//python-challenge//PyBank/analysis/budget_analysis.txt'"
   ]
  },
  {
   "cell_type": "code",
   "execution_count": 77,
   "metadata": {},
   "outputs": [],
   "source": [
    "months=[]\n",
    "net=[]"
   ]
  },
  {
   "cell_type": "code",
   "execution_count": 78,
   "metadata": {},
   "outputs": [
    {
     "name": "stdout",
     "output_type": "stream",
     "text": [
      "HEADER:['Date', 'Profit/Losses']\n"
     ]
    }
   ],
   "source": [
    "with open (PyBank_file, newline = '') as csvfile: \n",
    "    csvreader=csv.reader(csvfile,delimiter=',')\n",
    "    \n",
    "    csv_header=next(csvreader)\n",
    "    print(f\"HEADER:{csv_header}\")\n",
    "    \n",
    "    for rows in csvreader:\n",
    "        months.append(rows[0])\n",
    "        net.append(int(rows[1]))\n",
    "\n",
    "#with open (file, newline = '') as csvfile: \n",
    " #   csvreader=csv.reader(csvfile,delimiter=',')\n",
    "  #  for line in csvreader:\n",
    "   #     print(line)"
   ]
  },
  {
   "cell_type": "code",
   "execution_count": 82,
   "metadata": {},
   "outputs": [
    {
     "name": "stdout",
     "output_type": "stream",
     "text": [
      "86\n"
     ]
    }
   ],
   "source": [
    "#total months \n",
    "total_months=len(months)\n",
    "print (total_months)"
   ]
  },
  {
   "cell_type": "code",
   "execution_count": 89,
   "metadata": {},
   "outputs": [
    {
     "data": {
      "text/plain": [
       "38382578"
      ]
     },
     "execution_count": 89,
     "metadata": {},
     "output_type": "execute_result"
    }
   ],
   "source": [
    "#net profit and loss \n",
    "sum (net)"
   ]
  },
  {
   "cell_type": "code",
   "execution_count": 93,
   "metadata": {},
   "outputs": [],
   "source": [
    "#the average of the changes in \"Profit/Losses\" \n",
    "rev_change=[]\n",
    "for x in range(1,len(net)):\n",
    "    rev_change.append((int(net[x])-int(net[x-1])))"
   ]
  },
  {
   "cell_type": "code",
   "execution_count": 95,
   "metadata": {},
   "outputs": [
    {
     "data": {
      "text/plain": [
       "-2315.1176470588234"
      ]
     },
     "execution_count": 95,
     "metadata": {},
     "output_type": "execute_result"
    }
   ],
   "source": [
    "rev_average=sum(rev_change)/len(rev_change)\n",
    "rev_average"
   ]
  },
  {
   "cell_type": "code",
   "execution_count": 96,
   "metadata": {},
   "outputs": [],
   "source": [
    "#the greatest increase in profits\n",
    "greatest_increase=max(rev_change)"
   ]
  },
  {
   "cell_type": "code",
   "execution_count": 97,
   "metadata": {},
   "outputs": [],
   "source": [
    "#the greatest decrease in profits\n",
    "greatest_decrease=min(rev_change)"
   ]
  },
  {
   "cell_type": "code",
   "execution_count": 98,
   "metadata": {},
   "outputs": [],
   "source": [
    "#Printing Results to Financial Analysis txt"
   ]
  },
  {
   "cell_type": "code",
   "execution_count": 107,
   "metadata": {},
   "outputs": [
    {
     "name": "stdout",
     "output_type": "stream",
     "text": [
      "Financial Analysis\n",
      "-----------------------------------\n",
      "Total Months: 86\n",
      "Total: $38382578\n",
      "Average Change: $-2315.1176470588234\n",
      "Greatest Increase in Profits: Feb-2012 ($1926159) \n",
      "Greatest Decrease in Profits: Sep-2013 ($-2196167) \n"
     ]
    }
   ],
   "source": [
    "print(\"Financial Analysis\")\n",
    "print(\"-----------------------------------\")\n",
    "print(\"Total Months: \" + str(total_months))\n",
    "print(\"Total: \" + \"$\" +str(sum(net)))\n",
    "print(\"Average Change: \" + \"$\" + str(rev_average))\n",
    "print(\"Greatest Increase in Profits: \"+ str(months[rev_change.index(max(rev_change))+1])+ \" ($\" + str(greatest_increase)+ \") \")\n",
    "print(\"Greatest Decrease in Profits: \"+ str(months[rev_change.index(min(rev_change))+1])+ \" ($\" + str(greatest_decrease)+\") \")"
   ]
  },
  {
   "cell_type": "code",
   "execution_count": 117,
   "metadata": {},
   "outputs": [],
   "source": [
    "#export to text file \n",
    "export_file= open(\"budget_analysis\", \"w\")\n",
    "export_file.write(\"Financial Analysis\")\n",
    "export_file.write(\"\\n\")\n",
    "export_file.write(\"-----------------------------------\")\n",
    "export_file.write(\"\\n\")\n",
    "export_file.write(\"Total Months: \" + str(total_months))\n",
    "export_file.write(\"\\n\")\n",
    "export_file.write(\"Total Months: \" + str(total_months))\n",
    "export_file.write(\"\\n\")\n",
    "export_file.write(\"Total: \" + \"$\" +str(sum(net)))\n",
    "export_file.write(\"\\n\")\n",
    "export_file.write(\"Average Change: \" + \"$\" + str(rev_average))\n",
    "export_file.write(\"\\n\")\n",
    "export_file.write(\"Greatest Increase in Profits: \"+ str(months[rev_change.index(max(rev_change))+1])+ \" ($\" + str(greatest_increase)+ \") \")\n",
    "export_file.write(\"\\n\")\n",
    "export_file.write(\"Greatest Decrease in Profits: \"+ str(months[rev_change.index(min(rev_change))+1])+ \" ($\" + str(greatest_decrease)+\") \")\n",
    "export_file.write(\"\\n\")\n",
    "export_file.close()"
   ]
  },
  {
   "cell_type": "code",
   "execution_count": null,
   "metadata": {},
   "outputs": [],
   "source": []
  }
 ],
 "metadata": {
  "kernelspec": {
   "display_name": "Python 3",
   "language": "python",
   "name": "python3"
  },
  "language_info": {
   "codemirror_mode": {
    "name": "ipython",
    "version": 3
   },
   "file_extension": ".py",
   "mimetype": "text/x-python",
   "name": "python",
   "nbconvert_exporter": "python",
   "pygments_lexer": "ipython3",
   "version": "3.8.3"
  }
 },
 "nbformat": 4,
 "nbformat_minor": 4
}
