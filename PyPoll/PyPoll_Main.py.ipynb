{
 "cells": [
  {
   "cell_type": "code",
   "execution_count": 20,
   "metadata": {},
   "outputs": [
    {
     "data": {
      "text/plain": [
       "'C:\\\\Users\\\\jenni\\\\Desktop\\\\python-challenge\\\\PyPoll'"
      ]
     },
     "execution_count": 20,
     "metadata": {},
     "output_type": "execute_result"
    }
   ],
   "source": [
    "import os\n",
    "os.getcwd()"
   ]
  },
  {
   "cell_type": "code",
   "execution_count": 21,
   "metadata": {},
   "outputs": [],
   "source": [
    "import csv"
   ]
  },
  {
   "cell_type": "code",
   "execution_count": 22,
   "metadata": {},
   "outputs": [],
   "source": [
    "PyPoll_file=os.path.join('C://Users//jenni//Desktop//python-challenge//PyPoll/Resources/election_data.csv')"
   ]
  },
  {
   "cell_type": "code",
   "execution_count": 23,
   "metadata": {},
   "outputs": [],
   "source": [
    "election_analysis='C://Users//jenni//Desktop//python-challenge//PyPoll/analysis'"
   ]
  },
  {
   "cell_type": "code",
   "execution_count": 24,
   "metadata": {},
   "outputs": [],
   "source": [
    "#names of candidates\n",
    "candidates=[]"
   ]
  },
  {
   "cell_type": "code",
   "execution_count": 25,
   "metadata": {},
   "outputs": [],
   "source": [
    "#number of votes each candidate received\n",
    "num_votes=[]"
   ]
  },
  {
   "cell_type": "code",
   "execution_count": 26,
   "metadata": {},
   "outputs": [],
   "source": [
    "#percentage of total votes each candidate received\n",
    "percent_votes=[]"
   ]
  },
  {
   "cell_type": "code",
   "execution_count": 27,
   "metadata": {},
   "outputs": [],
   "source": [
    "#total number of votes \n",
    "total_votes=0"
   ]
  },
  {
   "cell_type": "code",
   "execution_count": 28,
   "metadata": {},
   "outputs": [],
   "source": [
    "with open (PyPoll_file, newline = '') as csvfile: \n",
    "    csvreader=csv.reader(csvfile,delimiter=',')\n",
    "    csv_header=next(csvreader)\n",
    "    \n",
    "    \n",
    "    for row in csvreader:\n",
    "\n",
    "        total_votes = total_votes+1\n",
    "        \n",
    "        \n",
    "        if row[2] not in candidates:\n",
    "            candidates.append(row[2])\n",
    "            index=candidates.index(row[2])\n",
    "            num_votes.append(1)\n",
    "        \n",
    "        else:\n",
    "            index=candidates.index(row[2])\n",
    "            num_votes[index]+=1\n",
    "            "
   ]
  },
  {
   "cell_type": "code",
   "execution_count": 29,
   "metadata": {},
   "outputs": [],
   "source": [
    "#percentages\n",
    "for votes in num_votes:\n",
    "    percentage=(votes/total_votes)*100\n",
    "    percentage=round(percentage)\n",
    "    percentage= \"%.3f%%\" % percentage\n",
    "    percent_votes.append(percentage)"
   ]
  },
  {
   "cell_type": "code",
   "execution_count": 30,
   "metadata": {},
   "outputs": [],
   "source": [
    "#finding the winner\n",
    "winner=max(num_votes)\n",
    "index=num_votes.index(winner)\n",
    "winning_candidate=candidates[index]"
   ]
  },
  {
   "cell_type": "code",
   "execution_count": 32,
   "metadata": {},
   "outputs": [
    {
     "name": "stdout",
     "output_type": "stream",
     "text": [
      "Election Results\n",
      "-----------------------------------\n",
      "Total Votes: 3521001\n",
      "-----------------------------------\n",
      "Khan: 63.000% (2218231)\n",
      "Correy: 20.000% (704200)\n",
      "Li: 14.000% (492940)\n",
      "O'Tooley: 3.000% (105630)\n",
      "-----------------------------------\n",
      "Winner: Khan\n",
      "-----------------------------------\n"
     ]
    }
   ],
   "source": [
    "#printing election Results \n",
    "print(\"Election Results\")\n",
    "print(\"-----------------------------------\")\n",
    "print(f\"Total Votes: {str(total_votes)}\")\n",
    "print(\"-----------------------------------\")\n",
    "for i in range (len(candidates)):\n",
    "    print(f\"{candidates[i]}: {str(percent_votes[i])} ({str(num_votes[i])})\")\n",
    "print(\"-----------------------------------\")\n",
    "print(f\"Winner: {winning_candidate}\")\n",
    "print(\"-----------------------------------\")"
   ]
  },
  {
   "cell_type": "code",
   "execution_count": 33,
   "metadata": {},
   "outputs": [],
   "source": [
    "#export to text file \n",
    "file=open(\"Election_Analysis\", \"w\")\n",
    "file.write(\"\\n\")\n",
    "file.write(\"Election Results\")\n",
    "file.write(\"\\n\")\n",
    "file.write(\"-----------------------------------\")\n",
    "file.write(\"\\n\")\n",
    "file.write(f\"Total Votes: {str(total_votes)}\")\n",
    "file.write(\"\\n\")\n",
    "file.write(\"-----------------------------------\")\n",
    "file.write(\"\\n\")\n",
    "for i in range (len(candidates)):\n",
    "    file.write(f\"{candidates[i]}: {str(percent_votes[i])} ({str(num_votes[i])})\")\n",
    "file.write(\"\\n\")\n",
    "file.write(\"-----------------------------------\")\n",
    "file.write(\"\\n\")\n",
    "file.write(f\"Winner: {winning_candidate}\")\n",
    "file.write(\"\\n\")\n",
    "file.write(\"-----------------------------------\")\n",
    "file.write(\"\\n\")\n",
    "file.close()"
   ]
  },
  {
   "cell_type": "code",
   "execution_count": null,
   "metadata": {},
   "outputs": [],
   "source": []
  }
 ],
 "metadata": {
  "kernelspec": {
   "display_name": "Python 3",
   "language": "python",
   "name": "python3"
  },
  "language_info": {
   "codemirror_mode": {
    "name": "ipython",
    "version": 3
   },
   "file_extension": ".py",
   "mimetype": "text/x-python",
   "name": "python",
   "nbconvert_exporter": "python",
   "pygments_lexer": "ipython3",
   "version": "3.8.3"
  }
 },
 "nbformat": 4,
 "nbformat_minor": 4
}
